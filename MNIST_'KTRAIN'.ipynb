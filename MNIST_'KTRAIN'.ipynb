{
  "nbformat": 4,
  "nbformat_minor": 0,
  "metadata": {
    "colab": {
      "name": "MNIST 'KTRAIN'",
      "provenance": [],
      "collapsed_sections": []
    },
    "kernelspec": {
      "name": "python3",
      "display_name": "Python 3"
    },
    "accelerator": "TPU"
  },
  "cells": [
    {
      "cell_type": "code",
      "metadata": {
        "id": "8e6RPRq_RBa0",
        "colab_type": "code",
        "outputId": "6448c795-dbf7-4e0f-80fb-27bf33609438",
        "colab": {
          "base_uri": "https://localhost:8080/",
          "height": 1000
        }
      },
      "source": [
        "!pip install ktrain"
      ],
      "execution_count": 0,
      "outputs": [
        {
          "output_type": "stream",
          "text": [
            "Collecting ktrain\n",
            "\u001b[?25l  Downloading https://files.pythonhosted.org/packages/bc/48/e489b362ea2f66694cadb52475d9f9422c4262f8516f3fdcd3eeaa1ab3ef/ktrain-0.5.2.tar.gz (164kB)\n",
            "\r\u001b[K     |██                              | 10kB 15.2MB/s eta 0:00:01\r\u001b[K     |████                            | 20kB 2.1MB/s eta 0:00:01\r\u001b[K     |██████                          | 30kB 3.1MB/s eta 0:00:01\r\u001b[K     |████████                        | 40kB 2.1MB/s eta 0:00:01\r\u001b[K     |██████████                      | 51kB 2.5MB/s eta 0:00:01\r\u001b[K     |████████████                    | 61kB 3.0MB/s eta 0:00:01\r\u001b[K     |██████████████                  | 71kB 3.5MB/s eta 0:00:01\r\u001b[K     |████████████████                | 81kB 4.0MB/s eta 0:00:01\r\u001b[K     |██████████████████              | 92kB 4.4MB/s eta 0:00:01\r\u001b[K     |████████████████████            | 102kB 3.4MB/s eta 0:00:01\r\u001b[K     |██████████████████████          | 112kB 3.4MB/s eta 0:00:01\r\u001b[K     |████████████████████████        | 122kB 3.4MB/s eta 0:00:01\r\u001b[K     |██████████████████████████      | 133kB 3.4MB/s eta 0:00:01\r\u001b[K     |████████████████████████████    | 143kB 3.4MB/s eta 0:00:01\r\u001b[K     |██████████████████████████████  | 153kB 3.4MB/s eta 0:00:01\r\u001b[K     |████████████████████████████████| 163kB 3.4MB/s eta 0:00:01\r\u001b[K     |████████████████████████████████| 174kB 3.4MB/s \n",
            "\u001b[?25hCollecting keras==2.2.4 (from ktrain)\n",
            "\u001b[?25l  Downloading https://files.pythonhosted.org/packages/5e/10/aa32dad071ce52b5502266b5c659451cfd6ffcbf14e6c8c4f16c0ff5aaab/Keras-2.2.4-py2.py3-none-any.whl (312kB)\n",
            "\r\u001b[K     |█                               | 10kB 10.6MB/s eta 0:00:01\r\u001b[K     |██                              | 20kB 17.0MB/s eta 0:00:01\r\u001b[K     |███▏                            | 30kB 22.9MB/s eta 0:00:01\r\u001b[K     |████▏                           | 40kB 27.6MB/s eta 0:00:01\r\u001b[K     |█████▎                          | 51kB 30.9MB/s eta 0:00:01\r\u001b[K     |██████▎                         | 61kB 34.8MB/s eta 0:00:01\r\u001b[K     |███████▍                        | 71kB 37.1MB/s eta 0:00:01\r\u001b[K     |████████▍                       | 81kB 37.6MB/s eta 0:00:01\r\u001b[K     |█████████▍                      | 92kB 39.6MB/s eta 0:00:01\r\u001b[K     |██████████▌                     | 102kB 41.8MB/s eta 0:00:01\r\u001b[K     |███████████▌                    | 112kB 41.8MB/s eta 0:00:01\r\u001b[K     |████████████▋                   | 122kB 41.8MB/s eta 0:00:01\r\u001b[K     |█████████████▋                  | 133kB 41.8MB/s eta 0:00:01\r\u001b[K     |██████████████▊                 | 143kB 41.8MB/s eta 0:00:01\r\u001b[K     |███████████████▊                | 153kB 41.8MB/s eta 0:00:01\r\u001b[K     |████████████████▊               | 163kB 41.8MB/s eta 0:00:01\r\u001b[K     |█████████████████▉              | 174kB 41.8MB/s eta 0:00:01\r\u001b[K     |██████████████████▉             | 184kB 41.8MB/s eta 0:00:01\r\u001b[K     |████████████████████            | 194kB 41.8MB/s eta 0:00:01\r\u001b[K     |█████████████████████           | 204kB 41.8MB/s eta 0:00:01\r\u001b[K     |██████████████████████          | 215kB 41.8MB/s eta 0:00:01\r\u001b[K     |███████████████████████         | 225kB 41.8MB/s eta 0:00:01\r\u001b[K     |████████████████████████▏       | 235kB 41.8MB/s eta 0:00:01\r\u001b[K     |█████████████████████████▏      | 245kB 41.8MB/s eta 0:00:01\r\u001b[K     |██████████████████████████▏     | 256kB 41.8MB/s eta 0:00:01\r\u001b[K     |███████████████████████████▎    | 266kB 41.8MB/s eta 0:00:01\r\u001b[K     |████████████████████████████▎   | 276kB 41.8MB/s eta 0:00:01\r\u001b[K     |█████████████████████████████▍  | 286kB 41.8MB/s eta 0:00:01\r\u001b[K     |██████████████████████████████▍ | 296kB 41.8MB/s eta 0:00:01\r\u001b[K     |███████████████████████████████▌| 307kB 41.8MB/s eta 0:00:01\r\u001b[K     |████████████████████████████████| 317kB 41.8MB/s \n",
            "\u001b[?25hRequirement already satisfied: scikit-learn>=0.20.0 in /usr/local/lib/python3.6/dist-packages (from ktrain) (0.21.3)\n",
            "Requirement already satisfied: matplotlib>=3.0.0 in /usr/local/lib/python3.6/dist-packages (from ktrain) (3.0.3)\n",
            "Requirement already satisfied: pandas>=0.24.2 in /usr/local/lib/python3.6/dist-packages (from ktrain) (0.24.2)\n",
            "Requirement already satisfied: fastprogress>=0.1.21 in /usr/local/lib/python3.6/dist-packages (from ktrain) (0.1.21)\n",
            "Collecting keras_bert (from ktrain)\n",
            "  Downloading https://files.pythonhosted.org/packages/df/fe/bf46de1ef9d1395cd735d8df5402f5d837ef82cfd348a252ad8f32feeaef/keras-bert-0.80.0.tar.gz\n",
            "Requirement already satisfied: requests in /usr/local/lib/python3.6/dist-packages (from ktrain) (2.21.0)\n",
            "Collecting eli5>=0.10.0 (from ktrain)\n",
            "\u001b[?25l  Downloading https://files.pythonhosted.org/packages/97/2f/c85c7d8f8548e460829971785347e14e45fa5c6617da374711dec8cb38cc/eli5-0.10.1-py2.py3-none-any.whl (105kB)\n",
            "\u001b[K     |████████████████████████████████| 112kB 37.2MB/s \n",
            "\u001b[?25hCollecting seqeval (from ktrain)\n",
            "  Downloading https://files.pythonhosted.org/packages/34/91/068aca8d60ce56dd9ba4506850e876aba5e66a6f2f29aa223224b50df0de/seqeval-0.0.12.tar.gz\n",
            "Requirement already satisfied: joblib in /usr/local/lib/python3.6/dist-packages (from ktrain) (0.14.0)\n",
            "Collecting langdetect (from ktrain)\n",
            "\u001b[?25l  Downloading https://files.pythonhosted.org/packages/59/59/4bc44158a767a6d66de18c4136c8aa90491d56cc951c10b74dd1e13213c9/langdetect-1.0.7.zip (998kB)\n",
            "\u001b[K     |████████████████████████████████| 1.0MB 50.0MB/s \n",
            "\u001b[?25hRequirement already satisfied: jieba in /usr/local/lib/python3.6/dist-packages (from ktrain) (0.39)\n",
            "Collecting cchardet (from ktrain)\n",
            "\u001b[?25l  Downloading https://files.pythonhosted.org/packages/4f/a5/d073e7a0e992275d9b87e08cc3151c0ec27c718b78e6c943d264e5bd71d3/cchardet-2.1.4-cp36-cp36m-manylinux1_x86_64.whl (204kB)\n",
            "\u001b[K     |████████████████████████████████| 204kB 49.5MB/s \n",
            "\u001b[?25hCollecting networkx==2.3 (from ktrain)\n",
            "\u001b[?25l  Downloading https://files.pythonhosted.org/packages/85/08/f20aef11d4c343b557e5de6b9548761811eb16e438cee3d32b1c66c8566b/networkx-2.3.zip (1.7MB)\n",
            "\u001b[K     |████████████████████████████████| 1.8MB 40.0MB/s \n",
            "\u001b[?25hRequirement already satisfied: scipy>=0.14 in /usr/local/lib/python3.6/dist-packages (from keras==2.2.4->ktrain) (1.3.1)\n",
            "Requirement already satisfied: six>=1.9.0 in /usr/local/lib/python3.6/dist-packages (from keras==2.2.4->ktrain) (1.12.0)\n",
            "Requirement already satisfied: numpy>=1.9.1 in /usr/local/lib/python3.6/dist-packages (from keras==2.2.4->ktrain) (1.16.5)\n",
            "Requirement already satisfied: keras-preprocessing>=1.0.5 in /usr/local/lib/python3.6/dist-packages (from keras==2.2.4->ktrain) (1.1.0)\n",
            "Requirement already satisfied: keras-applications>=1.0.6 in /usr/local/lib/python3.6/dist-packages (from keras==2.2.4->ktrain) (1.0.8)\n",
            "Requirement already satisfied: h5py in /usr/local/lib/python3.6/dist-packages (from keras==2.2.4->ktrain) (2.8.0)\n",
            "Requirement already satisfied: pyyaml in /usr/local/lib/python3.6/dist-packages (from keras==2.2.4->ktrain) (3.13)\n",
            "Requirement already satisfied: pyparsing!=2.0.4,!=2.1.2,!=2.1.6,>=2.0.1 in /usr/local/lib/python3.6/dist-packages (from matplotlib>=3.0.0->ktrain) (2.4.2)\n",
            "Requirement already satisfied: cycler>=0.10 in /usr/local/lib/python3.6/dist-packages (from matplotlib>=3.0.0->ktrain) (0.10.0)\n",
            "Requirement already satisfied: kiwisolver>=1.0.1 in /usr/local/lib/python3.6/dist-packages (from matplotlib>=3.0.0->ktrain) (1.1.0)\n",
            "Requirement already satisfied: python-dateutil>=2.1 in /usr/local/lib/python3.6/dist-packages (from matplotlib>=3.0.0->ktrain) (2.5.3)\n",
            "Requirement already satisfied: pytz>=2011k in /usr/local/lib/python3.6/dist-packages (from pandas>=0.24.2->ktrain) (2018.9)\n",
            "Collecting keras-transformer>=0.30.0 (from keras_bert->ktrain)\n",
            "  Downloading https://files.pythonhosted.org/packages/0a/57/496b1eab888171b0801a0a44d3245a7874b8d1cc04c1fbfdbb5e3327fc7a/keras-transformer-0.31.0.tar.gz\n",
            "Requirement already satisfied: chardet<3.1.0,>=3.0.2 in /usr/local/lib/python3.6/dist-packages (from requests->ktrain) (3.0.4)\n",
            "Requirement already satisfied: certifi>=2017.4.17 in /usr/local/lib/python3.6/dist-packages (from requests->ktrain) (2019.9.11)\n",
            "Requirement already satisfied: idna<2.9,>=2.5 in /usr/local/lib/python3.6/dist-packages (from requests->ktrain) (2.8)\n",
            "Requirement already satisfied: urllib3<1.25,>=1.21.1 in /usr/local/lib/python3.6/dist-packages (from requests->ktrain) (1.24.3)\n",
            "Requirement already satisfied: attrs>16.0.0 in /usr/local/lib/python3.6/dist-packages (from eli5>=0.10.0->ktrain) (19.3.0)\n",
            "Requirement already satisfied: graphviz in /usr/local/lib/python3.6/dist-packages (from eli5>=0.10.0->ktrain) (0.10.1)\n",
            "Requirement already satisfied: jinja2 in /usr/local/lib/python3.6/dist-packages (from eli5>=0.10.0->ktrain) (2.10.3)\n",
            "Requirement already satisfied: tabulate>=0.7.7 in /usr/local/lib/python3.6/dist-packages (from eli5>=0.10.0->ktrain) (0.8.5)\n",
            "Requirement already satisfied: decorator>=4.3.0 in /usr/local/lib/python3.6/dist-packages (from networkx==2.3->ktrain) (4.4.0)\n",
            "Requirement already satisfied: setuptools in /usr/local/lib/python3.6/dist-packages (from kiwisolver>=1.0.1->matplotlib>=3.0.0->ktrain) (41.2.0)\n",
            "Collecting keras-pos-embd>=0.10.0 (from keras-transformer>=0.30.0->keras_bert->ktrain)\n",
            "  Downloading https://files.pythonhosted.org/packages/09/70/b63ed8fc660da2bb6ae29b9895401c628da5740c048c190b5d7107cadd02/keras-pos-embd-0.11.0.tar.gz\n",
            "Collecting keras-multi-head>=0.22.0 (from keras-transformer>=0.30.0->keras_bert->ktrain)\n",
            "  Downloading https://files.pythonhosted.org/packages/40/3e/d0a64bb2ac5217928effe4507c26bbd19b86145d16a1948bc2d4f4c6338a/keras-multi-head-0.22.0.tar.gz\n",
            "Collecting keras-layer-normalization>=0.12.0 (from keras-transformer>=0.30.0->keras_bert->ktrain)\n",
            "  Downloading https://files.pythonhosted.org/packages/ea/f3/a92ce51219280eea003911722046db17eaebf5f26679a73887a5c357abe4/keras-layer-normalization-0.13.0.tar.gz\n",
            "Collecting keras-position-wise-feed-forward>=0.5.0 (from keras-transformer>=0.30.0->keras_bert->ktrain)\n",
            "  Downloading https://files.pythonhosted.org/packages/e3/59/f0faa1037c033059e7e9e7758e6c23b4d1c0772cd48de14c4b6fd4033ad5/keras-position-wise-feed-forward-0.6.0.tar.gz\n",
            "Collecting keras-embed-sim>=0.7.0 (from keras-transformer>=0.30.0->keras_bert->ktrain)\n",
            "  Downloading https://files.pythonhosted.org/packages/bc/20/735fd53f6896e2af63af47e212601c1b8a7a80d00b6126c388c9d1233892/keras-embed-sim-0.7.0.tar.gz\n",
            "Requirement already satisfied: MarkupSafe>=0.23 in /usr/local/lib/python3.6/dist-packages (from jinja2->eli5>=0.10.0->ktrain) (1.1.1)\n",
            "Collecting keras-self-attention==0.41.0 (from keras-multi-head>=0.22.0->keras-transformer>=0.30.0->keras_bert->ktrain)\n",
            "  Downloading https://files.pythonhosted.org/packages/1b/1c/01599219bef7266fa43b3316e4f55bcb487734d3bafdc60ffd564f3cfe29/keras-self-attention-0.41.0.tar.gz\n",
            "Building wheels for collected packages: ktrain, keras-bert, seqeval, langdetect, networkx, keras-transformer, keras-pos-embd, keras-multi-head, keras-layer-normalization, keras-position-wise-feed-forward, keras-embed-sim, keras-self-attention\n",
            "  Building wheel for ktrain (setup.py) ... \u001b[?25l\u001b[?25hdone\n",
            "  Created wheel for ktrain: filename=ktrain-0.5.2-cp36-none-any.whl size=213552 sha256=0facd3f18aa0943979065e167ace527a07d5341b45eaf0769b850c76aa7580fd\n",
            "  Stored in directory: /root/.cache/pip/wheels/72/71/d8/54ea825a57a816701162b9b0696765593182ce37d9f30d7819\n",
            "  Building wheel for keras-bert (setup.py) ... \u001b[?25l\u001b[?25hdone\n",
            "  Created wheel for keras-bert: filename=keras_bert-0.80.0-cp36-none-any.whl size=37923 sha256=08a9e740a754525ae45ab6e44580de4c6f51b7d408500afee56df4294e358875\n",
            "  Stored in directory: /root/.cache/pip/wheels/63/dc/87/3260cb91f3aa32c0f85c5375429a30c8fd988bbb48f5ee21b0\n",
            "  Building wheel for seqeval (setup.py) ... \u001b[?25l\u001b[?25hdone\n",
            "  Created wheel for seqeval: filename=seqeval-0.0.12-cp36-none-any.whl size=7424 sha256=354b1a25a400cf1e1a4b681521675fbbd02e2dee3de1f2319e2a6f894c77eba2\n",
            "  Stored in directory: /root/.cache/pip/wheels/4f/32/0a/df3b340a82583566975377d65e724895b3fad101a3fb729f68\n",
            "  Building wheel for langdetect (setup.py) ... \u001b[?25l\u001b[?25hdone\n",
            "  Created wheel for langdetect: filename=langdetect-1.0.7-cp36-none-any.whl size=993460 sha256=50664d5ee7467d1b1a2317d0893be2a5732726f8416388a8592d86fad780c47e\n",
            "  Stored in directory: /root/.cache/pip/wheels/ec/0c/a9/1647275e7ef5014e7b83ff30105180e332867d65e7617ddafe\n",
            "  Building wheel for networkx (setup.py) ... \u001b[?25l\u001b[?25hdone\n",
            "  Created wheel for networkx: filename=networkx-2.3-py2.py3-none-any.whl size=1556408 sha256=f5cb501bc36a4b4906501a49b7fce8dd03db92ea48fec6de126e00171a085e09\n",
            "  Stored in directory: /root/.cache/pip/wheels/de/63/64/3699be2a9d0ccdb37c7f16329acf3863fd76eda58c39c737af\n",
            "  Building wheel for keras-transformer (setup.py) ... \u001b[?25l\u001b[?25hdone\n",
            "  Created wheel for keras-transformer: filename=keras_transformer-0.31.0-cp36-none-any.whl size=13385 sha256=77169b60bf375974f4079ab415928f5a0c311050259625c6cfc78a2cf0e7c5fc\n",
            "  Stored in directory: /root/.cache/pip/wheels/a3/c5/9a/5a5130240be614a7a6fa786765d7692ae97f82601e2161bb56\n",
            "  Building wheel for keras-pos-embd (setup.py) ... \u001b[?25l\u001b[?25hdone\n",
            "  Created wheel for keras-pos-embd: filename=keras_pos_embd-0.11.0-cp36-none-any.whl size=7553 sha256=51b0e539e89b37d0a049634509d010c3b9e27317db410ccdbc1564a9944f9702\n",
            "  Stored in directory: /root/.cache/pip/wheels/5b/a1/a0/ce6b1d49ba1a9a76f592e70cf297b05c96bc9f418146761032\n",
            "  Building wheel for keras-multi-head (setup.py) ... \u001b[?25l\u001b[?25hdone\n",
            "  Created wheel for keras-multi-head: filename=keras_multi_head-0.22.0-cp36-none-any.whl size=15371 sha256=d4064862f453981c03c7bd2b6ca317a81a42ce3087da09fde302992d01527d57\n",
            "  Stored in directory: /root/.cache/pip/wheels/bb/df/3f/81b36f41b66e6a9cd69224c70a737de2bb6b2f7feb3272c25e\n",
            "  Building wheel for keras-layer-normalization (setup.py) ... \u001b[?25l\u001b[?25hdone\n",
            "  Created wheel for keras-layer-normalization: filename=keras_layer_normalization-0.13.0-cp36-none-any.whl size=5209 sha256=5a3534a33696e5db6bea8c0e3b6e28603626dba378f5e18fa1f540578ac5dc02\n",
            "  Stored in directory: /root/.cache/pip/wheels/50/2b/71/d1d06f71d78c46a9912dc89a5bb46f357cf64fa05883fadc64\n",
            "  Building wheel for keras-position-wise-feed-forward (setup.py) ... \u001b[?25l\u001b[?25hdone\n",
            "  Created wheel for keras-position-wise-feed-forward: filename=keras_position_wise_feed_forward-0.6.0-cp36-none-any.whl size=5624 sha256=3cce001e4fee171d5a25a1ddbdfe7729b8b2cea5bbf871bee673e54d9ccaa62c\n",
            "  Stored in directory: /root/.cache/pip/wheels/39/e2/e2/3514fef126a00574b13bc0b9e23891800158df3a3c19c96e3b\n",
            "  Building wheel for keras-embed-sim (setup.py) ... \u001b[?25l\u001b[?25hdone\n",
            "  Created wheel for keras-embed-sim: filename=keras_embed_sim-0.7.0-cp36-none-any.whl size=4676 sha256=8f79cff27039a0ec5419d24dc68c089f9269f89a163be89d0d78ba36ac905140\n",
            "  Stored in directory: /root/.cache/pip/wheels/d1/bc/b1/b0c45cee4ca2e6c86586b0218ffafe7f0703c6d07fdf049866\n",
            "  Building wheel for keras-self-attention (setup.py) ... \u001b[?25l\u001b[?25hdone\n",
            "  Created wheel for keras-self-attention: filename=keras_self_attention-0.41.0-cp36-none-any.whl size=17290 sha256=349aa39cd4b927d1a29b3bf072e8880dcd3316fbb55a94c241ac35f1d63e3a15\n",
            "  Stored in directory: /root/.cache/pip/wheels/cc/dc/17/84258b27a04cd38ac91998abe148203720ca696186635db694\n",
            "Successfully built ktrain keras-bert seqeval langdetect networkx keras-transformer keras-pos-embd keras-multi-head keras-layer-normalization keras-position-wise-feed-forward keras-embed-sim keras-self-attention\n",
            "\u001b[31mERROR: albumentations 0.1.12 has requirement imgaug<0.2.7,>=0.2.5, but you'll have imgaug 0.2.9 which is incompatible.\u001b[0m\n",
            "Installing collected packages: keras, keras-pos-embd, keras-self-attention, keras-multi-head, keras-layer-normalization, keras-position-wise-feed-forward, keras-embed-sim, keras-transformer, keras-bert, eli5, seqeval, langdetect, cchardet, networkx, ktrain\n",
            "  Found existing installation: Keras 2.2.5\n",
            "    Uninstalling Keras-2.2.5:\n",
            "      Successfully uninstalled Keras-2.2.5\n",
            "  Found existing installation: networkx 2.4\n",
            "    Uninstalling networkx-2.4:\n",
            "      Successfully uninstalled networkx-2.4\n",
            "Successfully installed cchardet-2.1.4 eli5-0.10.1 keras-2.2.4 keras-bert-0.80.0 keras-embed-sim-0.7.0 keras-layer-normalization-0.13.0 keras-multi-head-0.22.0 keras-pos-embd-0.11.0 keras-position-wise-feed-forward-0.6.0 keras-self-attention-0.41.0 keras-transformer-0.31.0 ktrain-0.5.2 langdetect-1.0.7 networkx-2.3 seqeval-0.0.12\n"
          ],
          "name": "stdout"
        }
      ]
    },
    {
      "cell_type": "code",
      "metadata": {
        "id": "9gEdKnVBRJAC",
        "colab_type": "code",
        "outputId": "9372871c-c29e-405a-ba86-3584fd34e8eb",
        "colab": {
          "base_uri": "https://localhost:8080/",
          "height": 52
        }
      },
      "source": [
        "import ktrain\n",
        "from ktrain import vision as vis"
      ],
      "execution_count": 0,
      "outputs": [
        {
          "output_type": "stream",
          "text": [
            "Using TensorFlow backend.\n"
          ],
          "name": "stderr"
        },
        {
          "output_type": "stream",
          "text": [
            "using Keras version: 2.2.4\n"
          ],
          "name": "stdout"
        }
      ]
    },
    {
      "cell_type": "code",
      "metadata": {
        "id": "pJ1Xu4eYa72X",
        "colab_type": "code",
        "colab": {}
      },
      "source": [
        "!tar -xf mnist_png.tgz"
      ],
      "execution_count": 0,
      "outputs": []
    },
    {
      "cell_type": "code",
      "metadata": {
        "id": "Wpv3IyJzRT-x",
        "colab_type": "code",
        "colab": {
          "base_uri": "https://localhost:8080/",
          "height": 69
        },
        "outputId": "0ef66c00-bdf0-45bd-e92b-de4c35f4bdda"
      },
      "source": [
        "path='/content/mnist_png'\n",
        "data_aug = vis.get_data_aug(  rotation_range=15,\n",
        "                              zoom_range=0.1,\n",
        "                              width_shift_range=0.1,\n",
        "                              height_shift_range=0.1)\n",
        "(train_data, val_data, preproc) = vis.images_from_folder(\n",
        "                                              datadir=path,\n",
        "                                              data_aug = data_aug,\n",
        "                                              train_test_names=['training', 'testing'], \n",
        "                                              target_size=(28,28), color_mode='grayscale')"
      ],
      "execution_count": 23,
      "outputs": [
        {
          "output_type": "stream",
          "text": [
            "Found 60000 images belonging to 10 classes.\n",
            "Found 60000 images belonging to 10 classes.\n",
            "Found 10000 images belonging to 10 classes.\n"
          ],
          "name": "stdout"
        }
      ]
    },
    {
      "cell_type": "code",
      "metadata": {
        "id": "09FOUopdUQxH",
        "colab_type": "code",
        "colab": {
          "base_uri": "https://localhost:8080/",
          "height": 156
        },
        "outputId": "382dccc9-23ad-48b4-e25f-dd9ed101c7f7"
      },
      "source": [
        "vis.print_image_classifiers()"
      ],
      "execution_count": 24,
      "outputs": [
        {
          "output_type": "stream",
          "text": [
            "pretrained_resnet50: 50-layer Residual Network (pretrained on ImageNet)\n",
            "resnet50: 50-layer Resididual Network (randomly initialized)\n",
            "pretrained_mobilenet: MobileNet Neural Network (pretrained on ImageNet - TF only)\n",
            "mobilenet: MobileNet Neural Network (randomly initialized - TF only)\n",
            "pretrained_inception: Inception Version 3  (pretrained on ImageNet)\n",
            "inception: Inception Version 3 (randomly initialized)\n",
            "wrn22: 22-layer Wide Residual Network (randomly initialized)\n",
            "default_cnn: a default LeNet-like Convolutional Neural Network\n"
          ],
          "name": "stdout"
        }
      ]
    },
    {
      "cell_type": "code",
      "metadata": {
        "id": "jNme_500biOr",
        "colab_type": "code",
        "colab": {
          "base_uri": "https://localhost:8080/",
          "height": 52
        },
        "outputId": "cbe9e828-53d9-49ee-ab2e-be5cf2125698"
      },
      "source": [
        "model = vis.image_classifier('default_cnn', train_data, val_data)"
      ],
      "execution_count": 25,
      "outputs": [
        {
          "output_type": "stream",
          "text": [
            "Is Multi-Label? False\n",
            "default_cnn model created.\n"
          ],
          "name": "stdout"
        }
      ]
    },
    {
      "cell_type": "code",
      "metadata": {
        "id": "3Gbtqvczbm5w",
        "colab_type": "code",
        "colab": {}
      },
      "source": [
        "learner = ktrain.get_learner(model, train_data=train_data, val_data=val_data, \n",
        "                             workers=8, use_multiprocessing=True, batch_size=64)"
      ],
      "execution_count": 0,
      "outputs": []
    },
    {
      "cell_type": "code",
      "metadata": {
        "id": "o6irXxFWbqkk",
        "colab_type": "code",
        "colab": {
          "base_uri": "https://localhost:8080/",
          "height": 285
        },
        "outputId": "a592d02c-32b3-4f86-9532-3d8517581291"
      },
      "source": [
        "learner.lr_plot()"
      ],
      "execution_count": 28,
      "outputs": [
        {
          "output_type": "display_data",
          "data": {
            "image/png": "[encoded data removed]",
            "text/plain": [
              "<Figure size 432x288 with 1 Axes>"
            ]
          },
          "metadata": {
            "tags": []
          }
        }
      ]
    },
    {
      "cell_type": "code",
      "metadata": {
        "id": "KcXDDBbLbuQK",
        "colab_type": "code",
        "colab": {
          "base_uri": "https://localhost:8080/",
          "height": 211
        },
        "outputId": "3678197d-3076-493a-d5f0-8dd524bf1a57"
      },
      "source": [
        "learner.autofit(0.001, 2)"
      ],
      "execution_count": 29,
      "outputs": [
        {
          "output_type": "stream",
          "text": [
            "\n",
            "\n",
            "begin training using triangular learning rate policy with max lr of 0.001...\n"
          ],
          "name": "stdout"
        },
        {
          "output_type": "stream",
          "text": [
            "/usr/local/lib/python3.6/dist-packages/keras/engine/training_generator.py:47: UserWarning: Using a generator with `use_multiprocessing=True` and multiple workers may duplicate your data. Please consider using the`keras.utils.Sequence class.\n",
            "  UserWarning('Using a generator with `use_multiprocessing=True`'\n"
          ],
          "name": "stderr"
        },
        {
          "output_type": "stream",
          "text": [
            "Epoch 1/2\n",
            "938/938 [==============================] - 240s 256ms/step - loss: 0.5585 - acc: 0.8259 - val_loss: 0.0161 - val_acc: 0.9952\n",
            "Epoch 2/2\n",
            "938/938 [==============================] - 241s 257ms/step - loss: 0.1369 - acc: 0.9592 - val_loss: 0.0387 - val_acc: 0.9874\n"
          ],
          "name": "stdout"
        },
        {
          "output_type": "execute_result",
          "data": {
            "text/plain": [
              "<keras.callbacks.History at 0x7ffb3662b7b8>"
            ]
          },
          "metadata": {
            "tags": []
          },
          "execution_count": 29
        }
      ]
    },
    {
      "cell_type": "code",
      "metadata": {
        "id": "cfoT0DXrcTe7",
        "colab_type": "code",
        "colab": {
          "base_uri": "https://localhost:8080/",
          "height": 34
        },
        "outputId": "62dad8e8-749b-4e42-f85e-c548e2b4a7d3"
      },
      "source": [
        "loss, acc = learner.model.evaluate_generator(val_data, steps=len(val_data))\n",
        "print('final loss:%s, final score:%s' % (loss, acc))\n",
        "\n"
      ],
      "execution_count": 30,
      "outputs": [
        {
          "output_type": "stream",
          "text": [
            "final loss:0.040114722952339796, final score:0.9865\n"
          ],
          "name": "stdout"
        }
      ]
    },
    {
      "cell_type": "code",
      "metadata": {
        "id": "KYa3vdxNetZD",
        "colab_type": "code",
        "colab": {
          "base_uri": "https://localhost:8080/",
          "height": 809
        },
        "outputId": "9763fe01-7161-4f70-8002-6354079b064a"
      },
      "source": [
        "learner.view_top_losses(n=3, preproc=preproc)"
      ],
      "execution_count": 31,
      "outputs": [
        {
          "output_type": "display_data",
          "data": {
            "image/png": "[encoded data removed]",
            "text/plain": [
              "<Figure size 432x288 with 1 Axes>"
            ]
          },
          "metadata": {
            "tags": []
          }
        },
        {
          "output_type": "display_data",
          "data": {
            "image/png": "[encoded data removed]",
            "text/plain": [
              "<Figure size 432x288 with 1 Axes>"
            ]
          },
          "metadata": {
            "tags": []
          }
        },
        {
          "output_type": "display_data",
          "data": {
            "image/png": "[encoded data removed]",
            "text/plain": [
              "<Figure size 432x288 with 1 Axes>"
            ]
          },
          "metadata": {
            "tags": []
          }
        }
      ]
    },
    {
      "cell_type": "code",
      "metadata": {
        "id": "3KBs5ECNe7LI",
        "colab_type": "code",
        "colab": {}
      },
      "source": [
        ""
      ],
      "execution_count": 0,
      "outputs": []
    }
  ]
}